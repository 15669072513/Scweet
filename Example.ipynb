{
 "cells": [
  {
   "cell_type": "code",
   "execution_count": null,
   "metadata": {},
   "outputs": [],
   "source": [
    "from Scweet.scweet import scrap\n",
    "from Scweet.user import get_user_information, get_following, get_followers"
   ]
  },
  {
   "cell_type": "markdown",
   "metadata": {},
   "source": [
    "# Scrape tweets of a specific account \"from_account\""
   ]
  },
  {
   "cell_type": "code",
   "execution_count": 3,
   "metadata": {},
   "outputs": [
    {
     "name": "stdout",
     "output_type": "stream",
     "text": [
      "Detected OS : Windows\n",
      "Scraping on headless mode.\n",
      "looking for tweets between 2020-01-01 and 2020-01-02 00:00:00 ...\n",
      "Tweet made at: 2020-01-01T01:22:28.000Z is found.\n",
      "Tweet made at: 2020-01-01T01:30:35.000Z is found.\n",
      "Tweet made at: 2020-01-01T01:03:15.000Z is found.\n",
      "scroll 0\n",
      "Tweet made at: 2020-01-01T01:22:28.000Z is found.\n",
      "Tweet made at: 2020-01-01T01:16:27.000Z is found.\n",
      "scroll 1\n",
      "Tweet made at: 2020-01-01T01:16:27.000Z is found.\n",
      "scroll 2\n",
      "scroll 3\n",
      "looking for tweets between 2020-01-02 00:00:00 and 2020-01-03 00:00:00 ...\n",
      "Tweet made at: 2020-01-02T13:42:42.000Z is found.\n",
      "Tweet made at: 2020-01-02T13:58:02.000Z is found.\n",
      "Tweet made at: 2020-01-02T01:53:15.000Z is found.\n",
      "scroll 0\n",
      "Tweet made at: 2020-01-02T02:46:45.000Z is found.\n",
      "Tweet made at: 2020-01-02T13:58:01.000Z is found.\n",
      "Tweet made at: 2020-01-02T13:42:41.000Z is found.\n",
      "Tweet made at: 2020-01-02T01:46:08.000Z is found.\n",
      "Tweet made at: 2020-01-02T01:32:31.000Z is found.\n",
      "Tweet made at: 2020-01-02T01:36:54.000Z is found.\n",
      "scroll 1\n",
      "scroll 2\n",
      "scroll 3\n"
     ]
    },
    {
     "data": {
      "text/plain": [
       "[('Donald J. Trump',\n",
       "  '@realDonaldTrump',\n",
       "  '2020-01-01T01:22:28.000Z',\n",
       "  'Our fantastic First Lady!Quote Tweet\\nMelania Trump\\n@FLOTUS\\nUS government account\\n · Dec 31, 2019\\n#2019 was a successful year! It was a privilege to meet so many incredible people. As we head into the New Year, I will continue speaking with children and encouraging them to #BeBest\\n2:00\\n2.7M views',\n",
       "  '',\n",
       "  '12.2K',\n",
       "  '25.2K',\n",
       "  '118.2K',\n",
       "  'https://pbs.twimg.com/profile_images/848946510918295557/RmsOl1zv_mini.jpg',\n",
       "  'https://twitter.com/realDonaldTrump/status/1212182267113680896'),\n",
       " ('Donald J. Trump',\n",
       "  '@realDonaldTrump',\n",
       "  '2020-01-01T01:30:35.000Z',\n",
       "  'HAPPY NEW YEAR!',\n",
       "  '',\n",
       "  '51.6K',\n",
       "  '81.9K',\n",
       "  '523K',\n",
       "  '',\n",
       "  'https://twitter.com/realDonaldTrump/status/1212184310389850119'),\n",
       " ('Donald J. Trump',\n",
       "  '@realDonaldTrump',\n",
       "  '2020-01-01T01:03:15.000Z',\n",
       "  \"Thank you to the \\n@dcexaminer\\n Washington Examiner. The list is growing every day!Quote Tweet\\nDan Scavino\\n@DanScavino\\n · Jan 1\\n“Trump list shows 319 'results' and promises kept in three years”\\n#MAGA\\n#KAG\\n #HNY2020\\n https://washingtonexaminer.com/washington-secrets/exclusive-trump-list-shows-319-results-and-promises-kept-in-three-years…\",\n",
       "  '🦅 🎉',\n",
       "  '1.8K',\n",
       "  '9.1K',\n",
       "  '33.9K',\n",
       "  'https://pbs.twimg.com/profile_images/1284244858677473280/eWVs2LuX_mini.jpg',\n",
       "  'https://twitter.com/realDonaldTrump/status/1212177432452698115'),\n",
       " ('Donald J. Trump',\n",
       "  '@realDonaldTrump',\n",
       "  '2020-01-01T01:22:28.000Z',\n",
       "  'Our fantastic First Lady!Quote Tweet\\nMelania Trump\\n@FLOTUS\\nUS government account\\n · Dec 31, 2019\\n#2019 was a successful year! It was a privilege to meet so many incredible people. As we head into the New Year, I will continue speaking with children and encouraging them to #BeBest\\n2.7M views\\n0:00 / 2:00',\n",
       "  '',\n",
       "  '12.2K',\n",
       "  '25.2K',\n",
       "  '118.2K',\n",
       "  'https://pbs.twimg.com/profile_images/848946510918295557/RmsOl1zv_mini.jpg',\n",
       "  'https://twitter.com/realDonaldTrump/status/1212182267113680896'),\n",
       " ('Donald J. Trump',\n",
       "  '@realDonaldTrump',\n",
       "  '2020-01-01T01:16:27.000Z',\n",
       "  'Thank you Steve. The greatest Witch Hunt in U.S. history!Quote Tweet\\nSteve Daines\\n@SteveDaines\\n · Dec 19, 2019\\nIt’s time for the Senate to end this partisan, impeachment sham once and for all.\\n0:17\\n2.2M views',\n",
       "  '',\n",
       "  '4.1K',\n",
       "  '11.1K',\n",
       "  '44.3K',\n",
       "  'https://pbs.twimg.com/profile_images/922463090935058432/XTchDLbm_mini.jpg',\n",
       "  'https://twitter.com/realDonaldTrump/status/1212180752936374275'),\n",
       " ('Donald J. Trump',\n",
       "  '@realDonaldTrump',\n",
       "  '2020-01-01T01:16:27.000Z',\n",
       "  'Thank you Steve. The greatest Witch Hunt in U.S. history!Quote Tweet\\nSteve Daines\\n@SteveDaines\\n · Dec 19, 2019\\nIt’s time for the Senate to end this partisan, impeachment sham once and for all.\\n0:15\\n2.2M views',\n",
       "  '',\n",
       "  '4.1K',\n",
       "  '11.1K',\n",
       "  '44.3K',\n",
       "  'https://pbs.twimg.com/profile_images/922463090935058432/XTchDLbm_mini.jpg',\n",
       "  'https://twitter.com/realDonaldTrump/status/1212180752936374275'),\n",
       " ('Donald J. Trump',\n",
       "  '@realDonaldTrump',\n",
       "  '2020-01-02T13:42:42.000Z',\n",
       "  '....it’s alienating independents. This President is being persecuted over three years with one investigation after another, and that really plays to his base.” \\n@FoxNews\\n  @cvpayne\\n  Their partisan Witch Hunt is hurting our Country do badly, & only bringing more division than ever!',\n",
       "  '',\n",
       "  '5.7K',\n",
       "  '12.6K',\n",
       "  '56.1K',\n",
       "  '',\n",
       "  'https://twitter.com/realDonaldTrump/status/1212730940197351425'),\n",
       " ('Donald J. Trump',\n",
       "  '@realDonaldTrump',\n",
       "  '2020-01-02T13:58:02.000Z',\n",
       "  '....had happened to a Presidential candidate, or President, who was a Democrat, everybody involved would long ago be in jail for treason (and more), and it would be considered the CRIME OF THE CENTURY, far bigger and more sinister than Watergate!',\n",
       "  '',\n",
       "  '17K',\n",
       "  '23.2K',\n",
       "  '95.7K',\n",
       "  '',\n",
       "  'https://twitter.com/realDonaldTrump/status/1212734798365626369'),\n",
       " ('Donald J. Trump',\n",
       "  '@realDonaldTrump',\n",
       "  '2020-01-02T01:53:15.000Z',\n",
       "  'Great job!Quote Tweet\\nTrump War Room\\n@TrumpWarRoom\\n · Jan 1\\nNo lies about a video.\\n\\nNo lies about who was responsible for the attack. \\n\\nNo unanswered calls for help.\\n\\nNo dead Americans.\\n\\nThere will be no Benghazis on President Trump’s watch! twitter.com/LucasFoxNews/s…',\n",
       "  '',\n",
       "  '3K',\n",
       "  '13.1K',\n",
       "  '55.4K',\n",
       "  'https://pbs.twimg.com/profile_images/1109170568950095879/Q5nCWHLB_mini.png',\n",
       "  'https://twitter.com/realDonaldTrump/status/1212552402798358534'),\n",
       " ('Donald J. Trump',\n",
       "  '@realDonaldTrump',\n",
       "  '2020-01-02T02:46:45.000Z',\n",
       "  'They don’t know how to do that!Quote Tweet\\nGeraldo Rivera\\n@GeraldoRivera\\n · Jan 1\\nBest way to start new decade is get lame partisan #impeachment behind us. It failed. Move on. Beat @realDonaldTrump fair & square.',\n",
       "  '',\n",
       "  '5.8K',\n",
       "  '14.3K',\n",
       "  '70.1K',\n",
       "  'https://pbs.twimg.com/profile_images/565927841381253120/-iHS2dYA_mini.jpeg',\n",
       "  'https://twitter.com/realDonaldTrump/status/1212565864584765440'),\n",
       " ('Donald J. Trump',\n",
       "  '@realDonaldTrump',\n",
       "  '2020-01-02T13:58:01.000Z',\n",
       "  'A lot of very good people were taken down by a small group of Dirty (Filthy) Cops, politicians, government officials, and an investigation that was illegally started & that SPIED on my campaign. The Witch Hunt is sputtering badly, but still going on (Ukraine Hoax!). If this....',\n",
       "  '',\n",
       "  '22.3K',\n",
       "  '30.1K',\n",
       "  '118.9K',\n",
       "  '',\n",
       "  'https://twitter.com/realDonaldTrump/status/1212734794762784768'),\n",
       " ('Donald J. Trump',\n",
       "  '@realDonaldTrump',\n",
       "  '2020-01-02T13:42:41.000Z',\n",
       "  'Sohrab Ahmari, New York Post “The Trump Campaign raised $10 million in the two days following the impeachment (Scam) vote. It seems the Democrats have shot themselves in the foot in one more way. They set up a process they know is not going to lead to the Presidents removal, &...',\n",
       "  '',\n",
       "  '6K',\n",
       "  '17.4K',\n",
       "  '78.3K',\n",
       "  '',\n",
       "  'https://twitter.com/realDonaldTrump/status/1212730938683207682'),\n",
       " ('Donald J. Trump',\n",
       "  '@realDonaldTrump',\n",
       "  '2020-01-02T01:46:08.000Z',\n",
       "  \"Can’t believe \\n@ATT\\n keeps the management after yet another \\n@CNN\\n ratings dive. Nobody watching, NO CREDIBILITY! Maybe they should make changes at AT&T?Quote Tweet\\nHeather\\nJones\\n@heatherjones333\\n · Jan 1\\n#HappyNewYear2020 to Everyone but @CNN (Cause that would be futile)\\n\\nRATINGS CRASH: CNN's Brian Stelter Just Fell To Embarrassing Low With Key Demo https://thegatewaypundit.com/2020/01/ratings-crash-cnns-brian-stelter-just-fell-to-embarrassing-low-with-key-demo/…\",\n",
       "  '❤ 🌸',\n",
       "  '11.6K',\n",
       "  '16.6K',\n",
       "  '62.4K',\n",
       "  'https://pbs.twimg.com/profile_images/1332485909636321294/FpiKBlbR_mini.jpg',\n",
       "  'https://twitter.com/realDonaldTrump/status/1212550610429587456'),\n",
       " ('Donald J. Trump',\n",
       "  '@realDonaldTrump',\n",
       "  '2020-01-02T01:32:31.000Z',\n",
       "  'Best equipment & finest military in the World. On site quickly!Quote Tweet\\nHeather\\nJones\\n@heatherjones333\\n · Jan 1\\nANOTHER CRISIS AVERTED BY OUR MAGNIFICENT TRUMP \\nIran-backed militiamen withdraw from siege of US Embassy in Baghdad as more American troops deployed https://fxn.ws/37BTEyf',\n",
       "  '❤ 🌸 🥳',\n",
       "  '4.3K',\n",
       "  '18.3K',\n",
       "  '80K',\n",
       "  'https://pbs.twimg.com/profile_images/1332485909636321294/FpiKBlbR_mini.jpg',\n",
       "  'https://twitter.com/realDonaldTrump/status/1212547186506059776'),\n",
       " ('Donald J. Trump',\n",
       "  '@realDonaldTrump',\n",
       "  '2020-01-02T01:36:54.000Z',\n",
       "  \"Too bad, Corey would have won! He (and I) loves New Hampshire.Quote Tweet\\nDavid Martosko\\n@dmartosko\\n · Dec 31, 2019\\nCorey Lewandowski says he's *not* running for U.S. Senate. twitter.com/CLewandowski_/…\",\n",
       "  '',\n",
       "  '3.7K',\n",
       "  '8.2K',\n",
       "  '39.8K',\n",
       "  'https://pbs.twimg.com/profile_images/1221220608555376640/DY0vI68K_mini.jpg',\n",
       "  'https://twitter.com/realDonaldTrump/status/1212548289515655168')]"
      ]
     },
     "execution_count": 3,
     "metadata": {},
     "output_type": "execute_result"
    }
   ],
   "source": [
    "scrap(start_date=\"2020-01-01\", max_date=\"2020-01-03\", from_account = \"realDonaldTrump\",interval=1,navig=\"chrome\", headless=True, display_type=\"Top\")"
   ]
  },
  {
   "cell_type": "markdown",
   "metadata": {},
   "source": [
    "# Get the main information of a specific account"
   ]
  },
  {
   "cell_type": "code",
   "execution_count": 3,
   "metadata": {},
   "outputs": [
    {
     "name": "stdout",
     "output_type": "stream",
     "text": [
      "Detected OS : Windows\n",
      "Scraping on headless mode.\n"
     ]
    },
    {
     "ename": "WebDriverException",
     "evalue": "Message: 'chromedriver_win.exe' executable needs to be in PATH. Please see https://sites.google.com/a/chromium.org/chromedriver/home\n",
     "output_type": "error",
     "traceback": [
      "\u001b[1;31m---------------------------------------------------------------------------\u001b[0m",
      "\u001b[1;31mFileNotFoundError\u001b[0m                         Traceback (most recent call last)",
      "\u001b[1;32m~\\miniconda3\\lib\\site-packages\\selenium\\webdriver\\common\\service.py\u001b[0m in \u001b[0;36mstart\u001b[1;34m(self)\u001b[0m\n\u001b[0;32m     75\u001b[0m                                             \u001b[0mstderr\u001b[0m\u001b[1;33m=\u001b[0m\u001b[0mself\u001b[0m\u001b[1;33m.\u001b[0m\u001b[0mlog_file\u001b[0m\u001b[1;33m,\u001b[0m\u001b[1;33m\u001b[0m\u001b[1;33m\u001b[0m\u001b[0m\n\u001b[1;32m---> 76\u001b[1;33m                                             stdin=PIPE)\n\u001b[0m\u001b[0;32m     77\u001b[0m         \u001b[1;32mexcept\u001b[0m \u001b[0mTypeError\u001b[0m\u001b[1;33m:\u001b[0m\u001b[1;33m\u001b[0m\u001b[1;33m\u001b[0m\u001b[0m\n",
      "\u001b[1;32m~\\miniconda3\\lib\\subprocess.py\u001b[0m in \u001b[0;36m__init__\u001b[1;34m(self, args, bufsize, executable, stdin, stdout, stderr, preexec_fn, close_fds, shell, cwd, env, universal_newlines, startupinfo, creationflags, restore_signals, start_new_session, pass_fds, encoding, errors, text)\u001b[0m\n\u001b[0;32m    799\u001b[0m                                 \u001b[0merrread\u001b[0m\u001b[1;33m,\u001b[0m \u001b[0merrwrite\u001b[0m\u001b[1;33m,\u001b[0m\u001b[1;33m\u001b[0m\u001b[1;33m\u001b[0m\u001b[0m\n\u001b[1;32m--> 800\u001b[1;33m                                 restore_signals, start_new_session)\n\u001b[0m\u001b[0;32m    801\u001b[0m         \u001b[1;32mexcept\u001b[0m\u001b[1;33m:\u001b[0m\u001b[1;33m\u001b[0m\u001b[1;33m\u001b[0m\u001b[0m\n",
      "\u001b[1;32m~\\miniconda3\\lib\\subprocess.py\u001b[0m in \u001b[0;36m_execute_child\u001b[1;34m(self, args, executable, preexec_fn, close_fds, pass_fds, cwd, env, startupinfo, creationflags, shell, p2cread, p2cwrite, c2pread, c2pwrite, errread, errwrite, unused_restore_signals, unused_start_new_session)\u001b[0m\n\u001b[0;32m   1206\u001b[0m                                          \u001b[0mos\u001b[0m\u001b[1;33m.\u001b[0m\u001b[0mfspath\u001b[0m\u001b[1;33m(\u001b[0m\u001b[0mcwd\u001b[0m\u001b[1;33m)\u001b[0m \u001b[1;32mif\u001b[0m \u001b[0mcwd\u001b[0m \u001b[1;32mis\u001b[0m \u001b[1;32mnot\u001b[0m \u001b[1;32mNone\u001b[0m \u001b[1;32melse\u001b[0m \u001b[1;32mNone\u001b[0m\u001b[1;33m,\u001b[0m\u001b[1;33m\u001b[0m\u001b[1;33m\u001b[0m\u001b[0m\n\u001b[1;32m-> 1207\u001b[1;33m                                          startupinfo)\n\u001b[0m\u001b[0;32m   1208\u001b[0m             \u001b[1;32mfinally\u001b[0m\u001b[1;33m:\u001b[0m\u001b[1;33m\u001b[0m\u001b[1;33m\u001b[0m\u001b[0m\n",
      "\u001b[1;31mFileNotFoundError\u001b[0m: [WinError 2] The system cannot find the file specified",
      "\nDuring handling of the above exception, another exception occurred:\n",
      "\u001b[1;31mWebDriverException\u001b[0m                        Traceback (most recent call last)",
      "\u001b[1;32m<ipython-input-3-dda3dd3b6f18>\u001b[0m in \u001b[0;36m<module>\u001b[1;34m\u001b[0m\n\u001b[1;32m----> 1\u001b[1;33m \u001b[0mfollowing\u001b[0m\u001b[1;33m,\u001b[0m \u001b[0mfollowers\u001b[0m\u001b[1;33m,\u001b[0m \u001b[0mjoin_date\u001b[0m\u001b[1;33m,\u001b[0m \u001b[0mlocation\u001b[0m\u001b[1;33m,\u001b[0m \u001b[0mwebsite\u001b[0m\u001b[1;33m,\u001b[0m \u001b[0mdescription\u001b[0m \u001b[1;33m=\u001b[0m \u001b[0mget_user_information\u001b[0m\u001b[1;33m(\u001b[0m\u001b[1;34m\"realDonaldTrump\"\u001b[0m\u001b[1;33m)\u001b[0m\u001b[1;33m\u001b[0m\u001b[1;33m\u001b[0m\u001b[0m\n\u001b[0m\u001b[0;32m      2\u001b[0m \u001b[1;33m\u001b[0m\u001b[0m\n\u001b[0;32m      3\u001b[0m \u001b[0mprint\u001b[0m\u001b[1;33m(\u001b[0m\u001b[1;34m'following:'\u001b[0m\u001b[1;33m+\u001b[0m\u001b[0mfollowing\u001b[0m\u001b[1;33m+\u001b[0m\u001b[1;34m'\\nfollowers: '\u001b[0m\u001b[1;33m+\u001b[0m\u001b[0mfollowers\u001b[0m\u001b[1;33m+\u001b[0m\u001b[1;34m'\\njoin_date: '\u001b[0m\u001b[1;33m+\u001b[0m\u001b[0mjoin_date\u001b[0m\u001b[1;33m+\u001b[0m \u001b[1;34m'\\nlocation: '\u001b[0m \u001b[1;33m+\u001b[0m\u001b[0mlocation\u001b[0m \u001b[1;33m+\u001b[0m \u001b[1;34m'\\nwebsite: '\u001b[0m\u001b[1;33m+\u001b[0m\u001b[0mwebsite\u001b[0m \u001b[1;33m+\u001b[0m \u001b[1;34m'\\ndescription: '\u001b[0m\u001b[1;33m+\u001b[0m\u001b[0mdescription\u001b[0m\u001b[1;33m)\u001b[0m\u001b[1;33m\u001b[0m\u001b[1;33m\u001b[0m\u001b[0m\n",
      "\u001b[1;32m~\\Documents\\GitHub\\Scweet\\Scweet\\user.py\u001b[0m in \u001b[0;36mget_user_information\u001b[1;34m(user, driver)\u001b[0m\n\u001b[0;32m      7\u001b[0m     \u001b[1;34m\"\"\" get user information if the \"from_account\" argument is specified \"\"\"\u001b[0m\u001b[1;33m\u001b[0m\u001b[1;33m\u001b[0m\u001b[0m\n\u001b[0;32m      8\u001b[0m \u001b[1;33m\u001b[0m\u001b[0m\n\u001b[1;32m----> 9\u001b[1;33m     \u001b[0mdriver\u001b[0m \u001b[1;33m=\u001b[0m \u001b[0mutils\u001b[0m\u001b[1;33m.\u001b[0m\u001b[0minit_driver\u001b[0m\u001b[1;33m(\u001b[0m\u001b[1;33m)\u001b[0m\u001b[1;33m\u001b[0m\u001b[1;33m\u001b[0m\u001b[0m\n\u001b[0m\u001b[0;32m     10\u001b[0m \u001b[1;33m\u001b[0m\u001b[0m\n\u001b[0;32m     11\u001b[0m     \u001b[0mlog_user_page\u001b[0m\u001b[1;33m(\u001b[0m\u001b[0muser\u001b[0m\u001b[1;33m,\u001b[0m \u001b[0mdriver\u001b[0m\u001b[1;33m)\u001b[0m\u001b[1;33m\u001b[0m\u001b[1;33m\u001b[0m\u001b[0m\n",
      "\u001b[1;32m~\\Documents\\GitHub\\Scweet\\utils.py\u001b[0m in \u001b[0;36minit_driver\u001b[1;34m(navig, headless, proxy)\u001b[0m\n\u001b[0;32m    129\u001b[0m         \u001b[0mprefs\u001b[0m \u001b[1;33m=\u001b[0m \u001b[1;33m{\u001b[0m\u001b[1;34m\"profile.managed_default_content_settings.images\"\u001b[0m\u001b[1;33m:\u001b[0m \u001b[1;36m2\u001b[0m\u001b[1;33m}\u001b[0m\u001b[1;33m\u001b[0m\u001b[1;33m\u001b[0m\u001b[0m\n\u001b[0;32m    130\u001b[0m         \u001b[0moptions\u001b[0m\u001b[1;33m.\u001b[0m\u001b[0madd_experimental_option\u001b[0m\u001b[1;33m(\u001b[0m\u001b[1;34m\"prefs\"\u001b[0m\u001b[1;33m,\u001b[0m \u001b[0mprefs\u001b[0m\u001b[1;33m)\u001b[0m\u001b[1;33m\u001b[0m\u001b[1;33m\u001b[0m\u001b[0m\n\u001b[1;32m--> 131\u001b[1;33m         \u001b[0mdriver\u001b[0m \u001b[1;33m=\u001b[0m \u001b[0mwebdriver\u001b[0m\u001b[1;33m.\u001b[0m\u001b[0mChrome\u001b[0m\u001b[1;33m(\u001b[0m\u001b[0moptions\u001b[0m\u001b[1;33m=\u001b[0m\u001b[0moptions\u001b[0m\u001b[1;33m,\u001b[0m\u001b[0mexecutable_path\u001b[0m\u001b[1;33m=\u001b[0m\u001b[0mbrowser_path\u001b[0m\u001b[1;33m)\u001b[0m\u001b[1;33m\u001b[0m\u001b[1;33m\u001b[0m\u001b[0m\n\u001b[0m\u001b[0;32m    132\u001b[0m         \u001b[0mdriver\u001b[0m\u001b[1;33m.\u001b[0m\u001b[0mset_page_load_timeout\u001b[0m\u001b[1;33m(\u001b[0m\u001b[1;36m100\u001b[0m\u001b[1;33m)\u001b[0m\u001b[1;33m\u001b[0m\u001b[1;33m\u001b[0m\u001b[0m\n\u001b[0;32m    133\u001b[0m         \u001b[1;32mreturn\u001b[0m \u001b[0mdriver\u001b[0m\u001b[1;33m\u001b[0m\u001b[1;33m\u001b[0m\u001b[0m\n",
      "\u001b[1;32m~\\miniconda3\\lib\\site-packages\\selenium\\webdriver\\chrome\\webdriver.py\u001b[0m in \u001b[0;36m__init__\u001b[1;34m(self, executable_path, port, options, service_args, desired_capabilities, service_log_path, chrome_options, keep_alive)\u001b[0m\n\u001b[0;32m     71\u001b[0m             \u001b[0mservice_args\u001b[0m\u001b[1;33m=\u001b[0m\u001b[0mservice_args\u001b[0m\u001b[1;33m,\u001b[0m\u001b[1;33m\u001b[0m\u001b[1;33m\u001b[0m\u001b[0m\n\u001b[0;32m     72\u001b[0m             log_path=service_log_path)\n\u001b[1;32m---> 73\u001b[1;33m         \u001b[0mself\u001b[0m\u001b[1;33m.\u001b[0m\u001b[0mservice\u001b[0m\u001b[1;33m.\u001b[0m\u001b[0mstart\u001b[0m\u001b[1;33m(\u001b[0m\u001b[1;33m)\u001b[0m\u001b[1;33m\u001b[0m\u001b[1;33m\u001b[0m\u001b[0m\n\u001b[0m\u001b[0;32m     74\u001b[0m \u001b[1;33m\u001b[0m\u001b[0m\n\u001b[0;32m     75\u001b[0m         \u001b[1;32mtry\u001b[0m\u001b[1;33m:\u001b[0m\u001b[1;33m\u001b[0m\u001b[1;33m\u001b[0m\u001b[0m\n",
      "\u001b[1;32m~\\miniconda3\\lib\\site-packages\\selenium\\webdriver\\common\\service.py\u001b[0m in \u001b[0;36mstart\u001b[1;34m(self)\u001b[0m\n\u001b[0;32m     81\u001b[0m                 raise WebDriverException(\n\u001b[0;32m     82\u001b[0m                     \"'%s' executable needs to be in PATH. %s\" % (\n\u001b[1;32m---> 83\u001b[1;33m                         os.path.basename(self.path), self.start_error_message)\n\u001b[0m\u001b[0;32m     84\u001b[0m                 )\n\u001b[0;32m     85\u001b[0m             \u001b[1;32melif\u001b[0m \u001b[0merr\u001b[0m\u001b[1;33m.\u001b[0m\u001b[0merrno\u001b[0m \u001b[1;33m==\u001b[0m \u001b[0merrno\u001b[0m\u001b[1;33m.\u001b[0m\u001b[0mEACCES\u001b[0m\u001b[1;33m:\u001b[0m\u001b[1;33m\u001b[0m\u001b[1;33m\u001b[0m\u001b[0m\n",
      "\u001b[1;31mWebDriverException\u001b[0m: Message: 'chromedriver_win.exe' executable needs to be in PATH. Please see https://sites.google.com/a/chromium.org/chromedriver/home\n"
     ]
    }
   ],
   "source": [
    "following, followers, join_date, location, website, description = get_user_information(\"realDonaldTrump\")\n",
    "\n",
    "print('following:'+following+'\\nfollowers: '+followers+'\\njoin_date: '+join_date+ '\\nlocation: ' +location + '\\nwebsite: '+website + '\\ndescription: '+description)"
   ]
  },
  {
   "cell_type": "markdown",
   "metadata": {},
   "source": [
    "# get followers and following of a specific account "
   ]
  },
  {
   "cell_type": "code",
   "execution_count": 8,
   "metadata": {},
   "outputs": [
    {
     "name": "stdout",
     "output_type": "stream",
     "text": [
      "Detected OS : Windows\n",
      "Scraping on headless mode.\n",
      "Found 8 following\n",
      "Found 40 following\n",
      "Found 71 following\n",
      "Found 100 following\n",
      "Found 114 following\n"
     ]
    }
   ],
   "source": [
    "#Enter your username and assword here. I recommande you dont use your main account. \n",
    "#Increase wait argument to avoid banning your account. I used 2 and it's safe.\n",
    "\n",
    "username = \"\"\n",
    "my_password = \"\"\n",
    "\n",
    "#following :\n",
    "following = get_following(user=\"Tesla\", username=username, my_password=my_password, verbose=0, headless = True, wait=2)\n",
    "\n",
    "#followers :\n",
    "followers = get_followers(user=\"Tesla\", username=username, my_password=my_password, verbose=0, headless = True, wait=2)"
   ]
  },
  {
   "cell_type": "code",
   "execution_count": 9,
   "metadata": {},
   "outputs": [
    {
     "name": "stdout",
     "output_type": "stream",
     "text": [
      "{'Followers': ['https://twitter.com/cleantechnica', 'https://twitter.com/Teslarati', 'https://twitter.com/InsideEVs', 'https://twitter.com/arstechnica', 'https://twitter.com/austinnotduncan', 'https://twitter.com/karpathy', 'https://twitter.com/woodhaus2', 'https://twitter.com/boringcompany', 'https://twitter.com/karpathy', 'https://twitter.com/woodhaus2', 'https://twitter.com/boringcompany', 'https://twitter.com/Gizmodo', 'https://twitter.com/BadAstronomer', 'https://twitter.com/newscientist', 'https://twitter.com/OpenAI', 'https://twitter.com/neiltyson', 'https://twitter.com/TheOnion', 'https://twitter.com/LaughingSquid', 'https://twitter.com/TeslaOwnersWW', 'https://twitter.com/DMC_Ryan', 'https://twitter.com/MKBHD', 'https://twitter.com/verge', 'https://twitter.com/Hyperloop', 'https://twitter.com/RickandMorty', 'https://twitter.com/waitbutwhy', 'https://twitter.com/tsrandall', 'https://twitter.com/OCTeslaClub', 'https://twitter.com/ElectricJen', 'https://twitter.com/TeslaOwnersONT', 'https://twitter.com/StLTesla', 'https://twitter.com/TeslaOwnersBC', 'https://twitter.com/NTXTeslaOwners', 'https://twitter.com/NorCalRenoTesla', 'https://twitter.com/SouthernAZTesla', 'https://twitter.com/TeslaXCanada', 'https://twitter.com/Oatmeal', 'https://twitter.com/MarkRuffalo', 'https://twitter.com/smithmegan', 'https://twitter.com/TeslaClubItaly', 'https://twitter.com/autocar', 'https://twitter.com/StLTesla', 'https://twitter.com/TeslaOwnersBC', 'https://twitter.com/NTXTeslaOwners', 'https://twitter.com/NorCalRenoTesla', 'https://twitter.com/SouthernAZTesla', 'https://twitter.com/TeslaXCanada', 'https://twitter.com/Oatmeal', 'https://twitter.com/MarkRuffalo', 'https://twitter.com/smithmegan', 'https://twitter.com/TeslaClubItaly', 'https://twitter.com/autocar', 'https://twitter.com/dungerdunger', 'https://twitter.com/AutoCritic', 'https://twitter.com/TeslaClubBE', 'https://twitter.com/Angus_MacK', 'https://twitter.com/TeslaMotorsNC', 'https://twitter.com/LeilaniMunter', 'https://twitter.com/westcoastbill', 'https://twitter.com/CRcars', 'https://twitter.com/TeslaRoadTrip', 'https://twitter.com/PeterDrives', 'https://twitter.com/FastCoImpact', 'https://twitter.com/AutoweekUSA', 'https://twitter.com/mt_loverman', 'https://twitter.com/gigaom', 'https://twitter.com/RoadandTrack', 'https://twitter.com/EdLoh', 'https://twitter.com/AutoGuide', 'https://twitter.com/engadget', 'https://twitter.com/TechCrunch', 'https://twitter.com/tsport100', 'https://twitter.com/TeslaRoadTrip', 'https://twitter.com/PeterDrives', 'https://twitter.com/FastCoImpact', 'https://twitter.com/AutoweekUSA', 'https://twitter.com/mt_loverman', 'https://twitter.com/gigaom', 'https://twitter.com/RoadandTrack', 'https://twitter.com/EdLoh', 'https://twitter.com/AutoGuide', 'https://twitter.com/engadget', 'https://twitter.com/TechCrunch', 'https://twitter.com/tsport100', 'https://twitter.com/therealautoblog', 'https://twitter.com/automobilemag', 'https://twitter.com/Treehugger', 'https://twitter.com/SpaceX', 'https://twitter.com/mjburnsy', 'https://twitter.com/elonmusk', 'https://twitter.com/katiefehren', 'https://twitter.com/CNETCarTech', 'https://twitter.com/MotorTrend', 'https://twitter.com/CARandDRIVER', 'https://twitter.com/GreenCarReports', 'https://twitter.com/AutoblogGreen', 'https://twitter.com/adamwerbach', 'https://twitter.com/TeslaMotorsClub', 'https://twitter.com/pluginamerica', 'https://twitter.com/bobbyllew', 'https://twitter.com/Jason', 'https://twitter.com/SpaceX', 'https://twitter.com/mjburnsy', 'https://twitter.com/elonmusk', 'https://twitter.com/katiefehren', 'https://twitter.com/CNETCarTech', 'https://twitter.com/MotorTrend', 'https://twitter.com/CARandDRIVER', 'https://twitter.com/GreenCarReports', 'https://twitter.com/AutoblogGreen', 'https://twitter.com/adamwerbach', 'https://twitter.com/TeslaMotorsClub', 'https://twitter.com/pluginamerica', 'https://twitter.com/bobbyllew', 'https://twitter.com/Jason']}\n"
     ]
    }
   ],
   "source": [
    "print(following)"
   ]
  },
  {
   "cell_type": "code",
   "execution_count": null,
   "metadata": {},
   "outputs": [],
   "source": []
  }
 ],
 "metadata": {
  "kernelspec": {
   "display_name": "Python 3",
   "language": "python",
   "name": "python3"
  },
  "language_info": {
   "codemirror_mode": {
    "name": "ipython",
    "version": 3
   },
   "file_extension": ".py",
   "mimetype": "text/x-python",
   "name": "python",
   "nbconvert_exporter": "python",
   "pygments_lexer": "ipython3",
   "version": "3.7.7"
  }
 },
 "nbformat": 4,
 "nbformat_minor": 4
}
