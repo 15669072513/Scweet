{
 "cells": [
  {
   "cell_type": "code",
   "execution_count": 4,
   "metadata": {},
   "outputs": [],
   "source": [
    "from scweet import scrap\n",
    "from user import get_user_information, get_users_following, get_users_followers"
   ]
  },
  {
   "cell_type": "markdown",
   "metadata": {},
   "source": [
    "# Scrape tweets of a specific account \"from_account\""
   ]
  },
  {
   "cell_type": "code",
   "execution_count": 2,
   "metadata": {},
   "outputs": [
    {
     "name": "stdout",
     "output_type": "stream",
     "text": [
      "Scraping on headless mode.\n",
      "looking for tweets between 2020-01-01 and 2020-01-02 00:00:00 ...\n",
      "Tweet made at: 2020-01-01T06:33:47.000Z is found.\n",
      "Tweet made at: 2020-01-01T05:32:58.000Z is found.\n",
      "Tweet made at: 2020-01-01T06:50:06.000Z is found.\n",
      "scroll 0\n",
      "scroll 1\n",
      "scroll 2\n",
      "looking for tweets between 2020-01-02 00:00:00 and 2020-01-03 00:00:00 ...\n",
      "scroll 0\n",
      "scroll 1\n",
      "scroll 2\n",
      "looking for tweets between 2020-01-03 00:00:00 and 2020-01-04 00:00:00 ...\n",
      "scroll 0\n",
      "scroll 1\n",
      "scroll 2\n",
      "looking for tweets between 2020-01-04 00:00:00 and 2020-01-05 00:00:00 ...\n",
      "Tweet made at: 2020-01-03T19:21:22.000Z is found.\n",
      "Tweet made at: 2020-01-04T03:25:03.000Z is found.\n",
      "Tweet made at: 2020-01-04T03:21:17.000Z is found.\n",
      "Tweet made at: 2020-01-04T03:33:58.000Z is found.\n",
      "scroll 0\n",
      "Tweet made at: 2020-01-04T03:35:20.000Z is found.\n",
      "scroll 1\n",
      "scroll 2\n",
      "looking for tweets between 2020-01-05 00:00:00 and 2020-01-06 00:00:00 ...\n",
      "Tweet made at: 2020-01-05T13:32:27.000Z is found.\n",
      "Tweet made at: 2020-01-05T17:51:01.000Z is found.\n",
      "Tweet made at: 2020-01-05T00:35:42.000Z is found.\n",
      "Tweet made at: 2020-01-05T17:23:17.000Z is found.\n",
      "Tweet made at: 2020-01-05T18:08:31.000Z is found.\n",
      "scroll 0\n",
      "scroll 1\n",
      "scroll 2\n"
     ]
    },
    {
     "data": {
      "text/plain": [
       "[('Elon Musk',\n",
       "  '@elonmusk',\n",
       "  '2020-01-01T06:33:47.000Z',\n",
       "  'No one suspected his disguise',\n",
       "  '',\n",
       "  '700',\n",
       "  '4.8K',\n",
       "  '73.5K',\n",
       "  'https://pbs.twimg.com/media/ENLQkiKXYAIAh-a?format=jpg&name=small',\n",
       "  'https://twitter.com/elonmusk/status/1212260614514630656'),\n",
       " ('Elon Musk',\n",
       "  '@elonmusk',\n",
       "  '2020-01-01T05:32:58.000Z',\n",
       "  'Carlos Gone',\n",
       "  '',\n",
       "  '3K',\n",
       "  '19K',\n",
       "  '131.9K',\n",
       "  '',\n",
       "  'https://twitter.com/elonmusk/status/1212245306412167168'),\n",
       " ('Elon Musk',\n",
       "  '@elonmusk',\n",
       "  '2020-01-01T06:50:06.000Z',\n",
       "  'Congratulations Tesla & SpaceX on great 2019! You rock!! Looking forward to epic 2020 ',\n",
       "  '♥ 🚀 🛰 🚘 ☀',\n",
       "  '2K',\n",
       "  '7.8K',\n",
       "  '158.3K',\n",
       "  'https://abs-0.twimg.com/emoji/v2/svg/2665.svg',\n",
       "  'https://twitter.com/elonmusk/status/1212264717617639424'),\n",
       " ('Slashdot',\n",
       "  '@slashdot',\n",
       "  '2020-01-03T19:21:22.000Z',\n",
       "  'Is Fry\\'s Electronics in Trouble?Is Fry\\'s Electronics in Trouble? - Slashdot\\nThe tagline \"Your best buys are always at Fry\\'s\" once blanketed Bay Area airwaves, but that\\'s no longer true of the computer retailer\\'s Palo Alto store. From a report: A temple of electronics known...\\nnews.slashdot.org',\n",
       "  '',\n",
       "  '24',\n",
       "  '26',\n",
       "  '295',\n",
       "  'https://pbs.twimg.com/card_img/1349506896177352705/hWEPQGCZ?format=png&name=120x120',\n",
       "  'https://twitter.com/slashdot/status/1213178555674198017'),\n",
       " ('Elon Musk',\n",
       "  '@elonmusk',\n",
       "  '2020-01-04T03:25:03.000Z',\n",
       "  'Wow, I built my first server room with parts from Fry’s. Ending of an era.',\n",
       "  '',\n",
       "  '139',\n",
       "  '115',\n",
       "  '2.3K',\n",
       "  '',\n",
       "  'https://twitter.com/elonmusk/status/1213300278960775168'),\n",
       " ('RS Tanner',\n",
       "  '@hot_rod_co',\n",
       "  '2020-01-04T03:21:17.000Z',\n",
       "  'Tesla has now added 112,000 salespeople ... actually, its more like 110,656 salespeople - as 98.8% will recommend their car to family and friends! (Bloomberg owner survey)\\n@tesla\\n@elonmusk',\n",
       "  '🚘',\n",
       "  '48',\n",
       "  '174',\n",
       "  '3.1K',\n",
       "  '',\n",
       "  'https://twitter.com/hot_rod_co/status/1213299332872622081'),\n",
       " ('Elon Musk',\n",
       "  '@elonmusk',\n",
       "  '2020-01-04T03:33:58.000Z',\n",
       "  'People talk about the products they *love*, that touch their heart & bring moments of joy',\n",
       "  '',\n",
       "  '290',\n",
       "  '364',\n",
       "  '6.6K',\n",
       "  '',\n",
       "  'https://twitter.com/elonmusk/status/1213302526239531008'),\n",
       " ('Elon Musk',\n",
       "  '@elonmusk',\n",
       "  '2020-01-04T03:35:20.000Z',\n",
       "  'Replying to \\n@annerajb\\n and \\n@slashdotZip2',\n",
       "  '',\n",
       "  '54',\n",
       "  '51',\n",
       "  '1.3K',\n",
       "  '',\n",
       "  'https://twitter.com/elonmusk/status/1213302866334691333'),\n",
       " ('Pomp',\n",
       "  '@APompliano',\n",
       "  '2020-01-05T13:32:27.000Z',\n",
       "  'Don’t look now, but \\n@elonmusk\\n and \\n@Tesla\\n are actually exceeding many of their ambitious goals now.\\n\\nIf you want to be reminded that optimists and innovators can still prevail, read this article.Take Your Victory Lap, Elon Musk\\nTesla is finally meeting its deadlines, and that’s welcome news for disruptors after a rough year.\\nwsj.com',\n",
       "  '🌪',\n",
       "  '100',\n",
       "  '977',\n",
       "  '7.8K',\n",
       "  'https://pbs.twimg.com/card_img/1348335706884739072/d_ROAMZP?format=jpg&name=small',\n",
       "  'https://twitter.com/APompliano/status/1213815524527919104'),\n",
       " ('Elon Musk',\n",
       "  '@elonmusk',\n",
       "  '2020-01-05T17:51:01.000Z',\n",
       "  'Fair piece by Stoll',\n",
       "  '',\n",
       "  '62',\n",
       "  '99',\n",
       "  '2.9K',\n",
       "  '',\n",
       "  'https://twitter.com/elonmusk/status/1213880594200817664'),\n",
       " ('Elon Musk',\n",
       "  '@elonmusk',\n",
       "  '2020-01-05T00:35:42.000Z',\n",
       "  'Wikigenius',\n",
       "  '',\n",
       "  '1.9K',\n",
       "  '29.9K',\n",
       "  '293.5K',\n",
       "  'https://pbs.twimg.com/media/ENelARzU0AA6Wxi?format=jpg&name=small',\n",
       "  'https://twitter.com/elonmusk/status/1213620051770671104'),\n",
       " ('Elon Musk',\n",
       "  '@elonmusk',\n",
       "  '2020-01-05T17:23:17.000Z',\n",
       "  'Replying to \\n@Model3OwnersOk',\n",
       "  '',\n",
       "  '180',\n",
       "  '200',\n",
       "  '5K',\n",
       "  '',\n",
       "  'https://twitter.com/elonmusk/status/1213873615445217282'),\n",
       " ('Elon Musk',\n",
       "  '@elonmusk',\n",
       "  '2020-01-05T18:08:31.000Z',\n",
       "  'Replying to \\n@7400N\\n and \\n@Model3OwnersOk',\n",
       "  '',\n",
       "  '104',\n",
       "  '100',\n",
       "  '3.1K',\n",
       "  '',\n",
       "  'https://twitter.com/elonmusk/status/1213884998681448449')]"
      ]
     },
     "execution_count": 2,
     "metadata": {},
     "output_type": "execute_result"
    }
   ],
   "source": [
    "scrap(start_date=\"2020-01-01\", max_date=\"2020-01-06\", from_account = \"elonmusk\",interval=1, headless=True, display_type=\"Top\", hashtag=None)"
   ]
  },
  {
   "cell_type": "markdown",
   "metadata": {},
   "source": [
    "# Get the main information of a given list of users"
   ]
  },
  {
   "cell_type": "code",
   "execution_count": 5,
   "metadata": {},
   "outputs": [],
   "source": [
    "# These users belongs to my following. \n",
    "users = ['nagouzil', '@yassineaitjeddi', 'TahaAlamIdrissi', 'lolitapoupat', '@Jade_happiness', '@Nabila_Gl']"
   ]
  },
  {
   "cell_type": "code",
   "execution_count": 9,
   "metadata": {},
   "outputs": [
    {
     "name": "stdout",
     "output_type": "stream",
     "text": [
      "Scraping on headless mode.\n"
     ]
    }
   ],
   "source": [
    "#this function return a list that contains : \n",
    "#[\"nb of following\",\"nb of followers\", \"join date\", \"location\", \"website\", \"description\"]\n",
    "users_info = get_user_information(users, headless=True)"
   ]
  },
  {
   "cell_type": "code",
   "execution_count": 11,
   "metadata": {},
   "outputs": [
    {
     "name": "stdout",
     "output_type": "stream",
     "text": [
      "['80', '27', 'Joined September 2012', '', '', 'Make a difference']\n",
      "['120', '5', 'Joined October 2016', '', '', '']\n",
      "['39', '134', 'Joined March 2015', '', '', '']\n",
      "['370', '436', 'Born October 23', 'Quelque part                 ', '', '« La seule personne de confiance est celle qui craint الله » \\n {Omar Ibn al-khattab}']\n"
     ]
    }
   ],
   "source": [
    "print(users_info['nagouzil'])\n",
    "print(users_info['@yassineaitjeddi'])\n",
    "print(users_info['lolitapoupat'])\n",
    "print(users_info['@Nabila_Gl'])"
   ]
  },
  {
   "cell_type": "markdown",
   "metadata": {},
   "source": [
    "# Get followers and following of a given list of users"
   ]
  },
  {
   "cell_type": "markdown",
   "metadata": {},
   "source": [
    "Enter your username and password in .env file. I recommande you dont use your main account.  \n",
    "Increase wait argument to avoid banning your account and maximise the crawling process if the internet is slow. I used 1 and it's safe."
   ]
  },
  {
   "cell_type": "code",
   "execution_count": 3,
   "metadata": {
    "scrolled": true
   },
   "outputs": [
    {
     "name": "stdout",
     "output_type": "stream",
     "text": [
      "Scraping on headless mode.\n",
      "Crawling @NAgouzil following\n",
      "Found 9 following\n",
      "Found 38 following\n",
      "Found 60 following\n",
      "Found 79 following\n",
      "Found 81 following\n",
      "Found 81 following\n",
      "Crawling @Yassineaitjeddi following\n",
      "Found 10 following\n",
      "Found 40 following\n",
      "Found 60 following\n",
      "Found 79 following\n",
      "Found 99 following\n",
      "Found 120 following\n",
      "Found 120 following\n",
      "Crawling @TahaAlamIdrissi following\n",
      "Found 8 following\n",
      "Found 37 following\n",
      "Found 56 following\n",
      "Found 77 following\n",
      "Found 98 following\n",
      "Found 119 following\n",
      "Found 139 following\n",
      "Found 159 following\n",
      "Found 180 following\n",
      "Found 200 following\n",
      "Found 219 following\n",
      "Found 240 following\n",
      "Found 258 following\n",
      "Found 279 following\n",
      "Found 299 following\n",
      "Found 318 following\n",
      "Found 339 following\n",
      "Found 359 following\n",
      "Found 378 following\n",
      "Found 380 following\n",
      "Found 380 following\n",
      "Crawling @LolitaPoupat following\n",
      "Found 10 following\n",
      "Found 39 following\n",
      "Found 39 following\n",
      "Crawling @Jade_happiness following\n",
      "Found 9 following\n",
      "Found 38 following\n",
      "Found 58 following\n",
      "Found 79 following\n",
      "Found 99 following\n",
      "Found 120 following\n",
      "Found 139 following\n",
      "Found 160 following\n",
      "Found 180 following\n",
      "Found 182 following\n",
      "Found 182 following\n",
      "Crawling @nabila_gl following\n",
      "Found 9 following\n",
      "Found 38 following\n",
      "Found 60 following\n",
      "Found 80 following\n",
      "Found 100 following\n",
      "Found 119 following\n",
      "Found 140 following\n",
      "Found 160 following\n",
      "Found 180 following\n",
      "Found 200 following\n",
      "Found 220 following\n",
      "Found 239 following\n",
      "Found 260 following\n",
      "Found 260 following\n",
      "Found 294 following\n",
      "Found 315 following\n",
      "Found 334 following\n",
      "Found 353 following\n",
      "Found 363 following\n",
      "Found 363 following\n"
     ]
    }
   ],
   "source": [
    "following = get_users_following(users=users, verbose=0, headless = True, wait=1)"
   ]
  },
  {
   "cell_type": "code",
   "execution_count": 8,
   "metadata": {},
   "outputs": [
    {
     "name": "stdout",
     "output_type": "stream",
     "text": [
      "['@tweetsauce', '@jockowillink', '@brfootball', '@433', '@Ibra_official', '@HSHQ', '@Snowden', '@johnkrasinski', '@fireship_dev', '@zinebmouchrik', '@Dannmace', '@Kurz_Gesagt', '@reactjs', '@dribbble', '@UpLabs', '@sketch', '@materialdesign', '@GoogleDesign', '@ayoubagouzil', '@garyvee', '@368', '@brielarson', '@Tesla', '@MehdiElIdriss23', '@Spotify', '@DavidDobrik', '@ddlovato', '@Dave2D', '@verge', '@StephenCurry30', '@KingJames', '@olivia_holt', '@saradietschy', '@petermckinnon', '@colesprouse', '@jakerawr', '@Casey', '@hkasulka', '@MandyPandyLeigh', '@Phil_Coutinho', '@KevinHart4real', '@BillGates', '@elonmusk', '@oneplus', '@dbrand', '@MKBHD', '@UnboxTherapy', '@TheRock', '@JDMorgan', '@AADaddario', '@jimmyfallon', '@ConanOBrien', '@alexandrabreck1', '@RealHughJackman', '@MelissaBenoist', '@HARDWELL', '@TahaAlamIdrissi', '@Eminem', '@SnoopDogg', '@GiGiHadid', '@Ucefmab', '@SalmaRach', '@ultra', '@MartinGarrix', '@YouTube', '@BadoAbdo', '@iWillSmith', '@ivanrakitic', '@Adele', '@SergiRoberto10', '@taylorswift13', '@LuisSuarez9', '@selenagomez', '@KendallJenner', '@jtimberlake', '@CHANEL', '@justinbieber', '@davidguetta', '@TeamMessi', '@neymarjr', '@BarackObama']\n"
     ]
    }
   ],
   "source": [
    "print(following['NAgouzil'])"
   ]
  },
  {
   "cell_type": "code",
   "execution_count": 5,
   "metadata": {
    "scrolled": true
   },
   "outputs": [
    {
     "name": "stdout",
     "output_type": "stream",
     "text": [
      "Scraping on headless mode.\n",
      "Crawling @NAgouzil followers\n",
      "Found 9 followers\n",
      "Found 27 followers\n",
      "Found 27 followers\n",
      "Crawling @Yassineaitjeddi followers\n",
      "Found 5 followers\n",
      "Found 5 followers\n",
      "Crawling @TahaAlamIdrissi followers\n",
      "Found 9 followers\n",
      "Found 40 followers\n",
      "Found 60 followers\n",
      "Found 80 followers\n",
      "Found 100 followers\n",
      "Found 119 followers\n",
      "Found 140 followers\n",
      "Found 157 followers\n",
      "Found 157 followers\n",
      "Crawling @LolitaPoupat followers\n",
      "Found 10 followers\n",
      "Found 40 followers\n",
      "Found 60 followers\n",
      "Found 80 followers\n",
      "Found 100 followers\n",
      "Found 120 followers\n",
      "Found 134 followers\n",
      "Found 134 followers\n",
      "Crawling @Jade_happiness followers\n",
      "Found 0 followers\n",
      "Found 37 followers\n",
      "Found 58 followers\n",
      "Found 78 followers\n",
      "Found 98 followers\n",
      "Found 117 followers\n",
      "Found 136 followers\n",
      "Found 158 followers\n",
      "Found 177 followers\n",
      "Found 198 followers\n",
      "Found 217 followers\n",
      "Found 237 followers\n",
      "Found 245 followers\n",
      "Found 245 followers\n",
      "Crawling @nabila_gl followers\n",
      "Found 10 followers\n",
      "Found 38 followers\n",
      "Found 60 followers\n",
      "Found 80 followers\n",
      "Found 100 followers\n",
      "Found 119 followers\n",
      "Found 140 followers\n",
      "Found 160 followers\n",
      "Found 180 followers\n",
      "Found 200 followers\n",
      "Found 220 followers\n",
      "Found 240 followers\n",
      "Found 260 followers\n",
      "Found 280 followers\n",
      "Found 300 followers\n",
      "Found 320 followers\n",
      "Found 340 followers\n",
      "Found 360 followers\n",
      "Found 380 followers\n",
      "Found 400 followers\n",
      "Found 419 followers\n",
      "Found 433 followers\n",
      "Found 433 followers\n"
     ]
    }
   ],
   "source": [
    "followers = get_users_followers(users=users, verbose=0, headless = True, wait=1)"
   ]
  },
  {
   "cell_type": "code",
   "execution_count": 9,
   "metadata": {
    "collapsed": true
   },
   "outputs": [
    {
     "name": "stdout",
     "output_type": "stream",
     "text": [
      "['@BaolBase', '@PrtJessie', '@amzil_naoufal', '@AlexisAymardd', '@Missalgangstar', '@yvane7777', '@LauraIs18', '@royes_lucas', '@GaetanGettgett', '@MehdyNedjar', '@TahiaYounes', '@Nassim95783893', '@BvSportetsante', '@zazazoz74115203', '@KevinJacquet6', '@edouardcrdt', '@Bekkamo_nono', '@DamienCharb', '@RHautiere', '@BaptisteRcr', '@sirina_rebbati', '@influenceuses', '@HadfiYamina', '@AlexPortoss', '@melanie_gdn_', '@BeratKoparan', '@Hasni_vola', '@lhdnn3', '@Hutchiwa1', '@BoukharouaI', '@zz_adil', '@AdrienTheOne', '@Axel_18100', '@Sneek59600743', '@GuilheiraAmelia', '@jaouenTzn', '@mizrahi_10', '@Charles03273937', '@KazmaKazmitch01', '@_beneston', '@Luckies_Smoke', '@meilleurtweet4', '@tiagoantunes205', '@bouyguestelecom', '@Atlatix', '@LeBoyJow', '@God_of_Couscous', '@Gokuku01755', '@Petition_RER_B', '@kmeljbr', '@AdrienPutseys', '@spy_vic', '@SLorenzo_FR', '@Petits_seins', '@diamondStyleez', '@alves_damien', '@thepunisher641', '@parisportif2017', '@aliciaportoss', '@livantsi', '@AlicePe41094652', '@camus_charlotte', '@mnSTEVEN28', '@juunssss', '@mydomydo3', '@st_cha18', '@emmathoreau_18', '@ElabbsiM', '@LaMichaa', '@FelipeLucie', '@theoj07', '@dylan_cls', '@antoinetekass', '@djjo7', '@Myirji', '@ely2i', '@emaxstl', '@TheHow2Guru', '@bruno80170', '@sujandas979', '@Gamzedefnemarda', '@SoulatAmandine1', '@TBelindaa', '@CedricDiMaria', '@YouMrook', '@KellyPmmt', '@abdelhaff', '@JeremThevenin', '@Max_Sola', '@Gambirasio1', '@ArnoJacket', '@SwagShopOff', '@Mrfreeze8z', '@yebda953', '@moodindp', '@LaurelennaLoise', '@TheotimB', '@thiago19912015', '@Mel_anie18', '@uasarf', '@sbrams13', '@CorentinPereira', '@LeryKevin', '@Tomssmontana', '@YanissRebbati', '@CamilleDarlingP', '@T_atianaR', '@BVHippo', '@JulietteJln', '@LauraChudy', '@PaulineTorterat', '@starlordMK', '@Ianiscatinevel', '@AdilNasri', '@AlexCouloumy', '@SophiiaCie', '@Pauline_DSA', '@ga_bZs', '@TiffanyDaMota', '@PintoJenn', '@clara_besse18', '@Ce_Joy18', '@sampson_marvin', '@LauuraForest', '@PauulinePetit', '@RComedien', '@MehdiBoudina', '@LesliieK', '@thediable2', '@DjeH', '@MarinePoupat', '@jimboux', '@AlexiDasilva', '@OphelieHaddadi']\n"
     ]
    }
   ],
   "source": [
    "print(followers['LolitaPoupat'])"
   ]
  },
  {
   "cell_type": "code",
   "execution_count": null,
   "metadata": {},
   "outputs": [],
   "source": []
  }
 ],
 "metadata": {
  "kernelspec": {
   "display_name": "Python 3",
   "language": "python",
   "name": "python3"
  },
  "language_info": {
   "codemirror_mode": {
    "name": "ipython",
    "version": 3
   },
   "file_extension": ".py",
   "mimetype": "text/x-python",
   "name": "python",
   "nbconvert_exporter": "python",
   "pygments_lexer": "ipython3",
   "version": "3.7.7"
  }
 },
 "nbformat": 4,
 "nbformat_minor": 4
}
