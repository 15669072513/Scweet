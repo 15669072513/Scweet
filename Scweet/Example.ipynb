{
 "cells": [
  {
   "cell_type": "code",
   "execution_count": 7,
   "metadata": {},
   "outputs": [],
   "source": [
    "from scweet import scrap\n",
    "from user import get_user_information, get_following, get_followers"
   ]
  },
  {
   "cell_type": "markdown",
   "metadata": {},
   "source": [
    "# Scrape tweets of a specific account \"from_account\""
   ]
  },
  {
   "cell_type": "code",
   "execution_count": 10,
   "metadata": {},
   "outputs": [
    {
     "name": "stdout",
     "output_type": "stream",
     "text": "Scraping on headless mode.\nlooking for tweets between 2020-01-01 and 2020-01-02 00:00:00 ...\nscroll 0\nscroll 1\nlooking for tweets between 2020-01-02 00:00:00 and 2020-01-03 00:00:00 ...\nscroll 0\nscroll 1\nlooking for tweets between 2020-01-03 00:00:00 and 2020-01-04 00:00:00 ...\nscroll 0\nscroll 1\nlooking for tweets between 2020-01-04 00:00:00 and 2020-01-05 00:00:00 ...\nscroll 0\nscroll 1\nlooking for tweets between 2020-01-05 00:00:00 and 2020-01-06 00:00:00 ...\nscroll 0\nscroll 1\nlooking for tweets between 2020-01-06 00:00:00 and 2020-01-07 00:00:00 ...\nscroll 0\nscroll 1\nlooking for tweets between 2020-01-07 00:00:00 and 2020-01-08 00:00:00 ...\nscroll 0\nscroll 1\nlooking for tweets between 2020-01-08 00:00:00 and 2020-01-09 00:00:00 ...\nscroll 0\nscroll 1\nlooking for tweets between 2020-01-09 00:00:00 and 2020-01-10 00:00:00 ...\nscroll 0\nscroll 1\nlooking for tweets between 2020-01-10 00:00:00 and 2020-01-11 00:00:00 ...\nscroll 0\nscroll 1\nlooking for tweets between 2020-01-11 00:00:00 and 2020-01-12 00:00:00 ...\nscroll 0\nscroll 1\nlooking for tweets between 2020-01-12 00:00:00 and 2020-01-13 00:00:00 ...\nscroll 0\nscroll 1\nlooking for tweets between 2020-01-13 00:00:00 and 2020-01-14 00:00:00 ...\nscroll 0\nscroll 1\nlooking for tweets between 2020-01-14 00:00:00 and 2020-01-15 00:00:00 ...\nscroll 0\nscroll 1\nlooking for tweets between 2020-01-15 00:00:00 and 2020-01-16 00:00:00 ...\nscroll 0\nscroll 1\nlooking for tweets between 2020-01-16 00:00:00 and 2020-01-17 00:00:00 ...\nscroll 0\nscroll 1\nlooking for tweets between 2020-01-17 00:00:00 and 2020-01-18 00:00:00 ...\nscroll 0\nscroll 1\nlooking for tweets between 2020-01-18 00:00:00 and 2020-01-19 00:00:00 ...\nscroll 0\nscroll 1\nlooking for tweets between 2020-01-19 00:00:00 and 2020-01-20 00:00:00 ...\nscroll 0\nscroll 1\nlooking for tweets between 2020-01-20 00:00:00 and 2020-01-21 00:00:00 ...\nscroll 0\nscroll 1\nlooking for tweets between 2020-01-21 00:00:00 and 2020-01-22 00:00:00 ...\nscroll 0\nscroll 1\nlooking for tweets between 2020-01-22 00:00:00 and 2020-01-23 00:00:00 ...\nscroll 0\nscroll 1\nlooking for tweets between 2020-01-23 00:00:00 and 2020-01-24 00:00:00 ...\nscroll 0\nscroll 1\nlooking for tweets between 2020-01-24 00:00:00 and 2020-01-25 00:00:00 ...\nscroll 0\nscroll 1\nlooking for tweets between 2020-01-25 00:00:00 and 2020-01-26 00:00:00 ...\nscroll 0\nscroll 1\nlooking for tweets between 2020-01-26 00:00:00 and 2020-01-27 00:00:00 ...\nscroll 0\nscroll 1\nlooking for tweets between 2020-01-27 00:00:00 and 2020-01-28 00:00:00 ...\nscroll 0\nscroll 1\nlooking for tweets between 2020-01-28 00:00:00 and 2020-01-29 00:00:00 ...\nscroll 0\nscroll 1\nlooking for tweets between 2020-01-29 00:00:00 and 2020-01-30 00:00:00 ...\nscroll 0\nscroll 1\nTweet made at: 2020-01-29T01:32:53.000Z is found.\nscroll 2\nscroll 3\nlooking for tweets between 2020-01-30 00:00:00 and 2020-01-31 00:00:00 ...\nscroll 0\nscroll 1\n"
    },
    {
     "data": {
      "text/plain": "[('Donald J. Trump',\n  '@realDonaldTrump',\n  '2020-01-29T01:32:53.000Z',\n  'Thank you Wildwood, New Jersey! #KeepAmericaGreatTeam Trump (Text TRUMP to 88022)\\n@TeamTrump\\nLIVE: President Trump in Wildwood, NJ\\npscp.tv',\n  '',\n  '2.8K',\n  '12.4K',\n  '48.3K',\n  'https://abs-0.twimg.com/emoji/v2/svg/1f1fa-1f1f8.svg',\n  'https://twitter.com/realDonaldTrump/status/1222331749805580293')]"
     },
     "execution_count": 10,
     "metadata": {},
     "output_type": "execute_result"
    }
   ],
   "source": [
    "scrap(start_date=\"2020-01-01\", max_date=\"2020-01-31\", from_account = \"realDonaldTrump\",interval=1,navig=\"chrome\", headless=True, display_type=\"Top\", hashtag=\"KeepAmericaGreat\")"
   ]
  },
  {
   "cell_type": "markdown",
   "metadata": {},
   "source": [
    "# Get the main information of a specific account"
   ]
  },
  {
   "cell_type": "code",
   "execution_count": null,
   "metadata": {},
   "outputs": [],
   "source": [
    "following, followers, join_date, location, website, description = get_user_information(\"realDonaldTrump\")\n",
    "\n",
    "print('following:'+following+'\\nfollowers: '+followers+'\\njoin_date: '+join_date+ '\\nlocation: ' +location + '\\nwebsite: '+website + '\\ndescription: '+description)"
   ]
  },
  {
   "cell_type": "markdown",
   "metadata": {},
   "source": [
    "# get followers and following of a specific account "
   ]
  },
  {
   "cell_type": "code",
   "execution_count": null,
   "metadata": {},
   "outputs": [],
   "source": [
    "#Enter your username and password in .env file. I recommande you dont use your main account. \n",
    "#Increase wait argument to avoid banning your account. I used 2 and it's safe.\n",
    "\n",
    "#following :\n",
    "following = get_following(user=\"Tesla\", verbose=0, headless = True, wait=2)\n",
    "\n",
    "#followers :\n",
    "#followers = get_followers(user=\"Tesla\", verbose=0, headless = True, wait=2)"
   ]
  },
  {
   "cell_type": "code",
   "execution_count": null,
   "metadata": {},
   "outputs": [],
   "source": [
    "print(following)"
   ]
  },
  {
   "cell_type": "code",
   "execution_count": null,
   "metadata": {},
   "outputs": [],
   "source": []
  }
 ],
 "metadata": {
  "kernelspec": {
   "display_name": "Python 3",
   "language": "python",
   "name": "python3"
  },
  "language_info": {
   "codemirror_mode": {
    "name": "ipython",
    "version": 3
   },
   "file_extension": ".py",
   "mimetype": "text/x-python",
   "name": "python",
   "nbconvert_exporter": "python",
   "pygments_lexer": "ipython3",
   "version": "3.7.6-final"
  }
 },
 "nbformat": 4,
 "nbformat_minor": 4
}