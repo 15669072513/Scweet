{
 "cells": [
  {
   "cell_type": "code",
   "execution_count": 1,
   "metadata": {},
   "outputs": [],
   "source": [
    "from scweet import scrap\n",
    "from user import get_user_information, get_following, get_followers"
   ]
  },
  {
   "cell_type": "markdown",
   "metadata": {},
   "source": [
    "# Scrape tweets of a specific account \"from_account\""
   ]
  },
  {
   "cell_type": "code",
   "execution_count": 5,
   "metadata": {},
   "outputs": [
    {
     "name": "stdout",
     "output_type": "stream",
     "text": [
      "Scraping on headless mode.\n",
      "looking for tweets between 2020-01-01 and 2020-01-02 00:00:00 ...\n",
      "Tweet made at: 2020-01-01T06:33:47.000Z is found.\n",
      "Tweet made at: 2020-01-01T05:32:58.000Z is found.\n",
      "Tweet made at: 2020-01-01T06:50:06.000Z is found.\n",
      "scroll 0\n",
      "scroll 1\n",
      "scroll 2\n",
      "looking for tweets between 2020-01-02 00:00:00 and 2020-01-03 00:00:00 ...\n",
      "scroll 0\n",
      "scroll 1\n",
      "scroll 2\n",
      "looking for tweets between 2020-01-03 00:00:00 and 2020-01-04 00:00:00 ...\n",
      "scroll 0\n",
      "scroll 1\n",
      "scroll 2\n",
      "looking for tweets between 2020-01-04 00:00:00 and 2020-01-05 00:00:00 ...\n",
      "Tweet made at: 2020-01-03T19:21:22.000Z is found.\n",
      "Tweet made at: 2020-01-04T03:25:03.000Z is found.\n",
      "Tweet made at: 2020-01-04T03:21:17.000Z is found.\n",
      "Tweet made at: 2020-01-04T03:33:58.000Z is found.\n",
      "Tweet made at: 2020-01-04T03:35:20.000Z is found.\n",
      "scroll 0\n",
      "scroll 1\n",
      "scroll 2\n",
      "looking for tweets between 2020-01-05 00:00:00 and 2020-01-06 00:00:00 ...\n",
      "Tweet made at: 2020-01-05T13:32:27.000Z is found.\n",
      "Tweet made at: 2020-01-05T17:51:01.000Z is found.\n",
      "Tweet made at: 2020-01-05T00:35:42.000Z is found.\n",
      "Tweet made at: 2020-01-05T17:23:17.000Z is found.\n",
      "Tweet made at: 2020-01-05T18:08:31.000Z is found.\n",
      "scroll 0\n",
      "scroll 1\n",
      "scroll 2\n"
     ]
    },
    {
     "data": {
      "text/plain": [
       "[('Elon Musk',\n",
       "  '@elonmusk',\n",
       "  '2020-01-01T06:33:47.000Z',\n",
       "  'No one suspected his disguise',\n",
       "  '',\n",
       "  '701',\n",
       "  '4.8K',\n",
       "  '73.6K',\n",
       "  'https://pbs.twimg.com/media/ENLQkiKXYAIAh-a?format=jpg&name=small',\n",
       "  'https://twitter.com/elonmusk/status/1212260614514630656'),\n",
       " ('Elon Musk',\n",
       "  '@elonmusk',\n",
       "  '2020-01-01T05:32:58.000Z',\n",
       "  'Carlos Gone',\n",
       "  '',\n",
       "  '3K',\n",
       "  '19.1K',\n",
       "  '132.1K',\n",
       "  '',\n",
       "  'https://twitter.com/elonmusk/status/1212245306412167168'),\n",
       " ('Elon Musk',\n",
       "  '@elonmusk',\n",
       "  '2020-01-01T06:50:06.000Z',\n",
       "  'Congratulations Tesla & SpaceX on great 2019! You rock!! Looking forward to epic 2020 ',\n",
       "  '♥ 🚀 🛰 🚘 ☀',\n",
       "  '2K',\n",
       "  '7.8K',\n",
       "  '158.6K',\n",
       "  'https://abs-0.twimg.com/emoji/v2/svg/2665.svg',\n",
       "  'https://twitter.com/elonmusk/status/1212264717617639424'),\n",
       " ('Slashdot',\n",
       "  '@slashdot',\n",
       "  '2020-01-03T19:21:22.000Z',\n",
       "  'Is Fry\\'s Electronics in Trouble?Is Fry\\'s Electronics in Trouble? - Slashdot\\nThe tagline \"Your best buys are always at Fry\\'s\" once blanketed Bay Area airwaves, but that\\'s no longer true of the computer retailer\\'s Palo Alto store. From a report: A temple of electronics known...\\nnews.slashdot.org',\n",
       "  '',\n",
       "  '24',\n",
       "  '26',\n",
       "  '296',\n",
       "  'https://pbs.twimg.com/card_img/1346211554933440513/jIrQ3cXw?format=png&name=120x120',\n",
       "  'https://twitter.com/slashdot/status/1213178555674198017'),\n",
       " ('Elon Musk',\n",
       "  '@elonmusk',\n",
       "  '2020-01-04T03:25:03.000Z',\n",
       "  'Wow, I built my first server room with parts from Fry’s. Ending of an era.',\n",
       "  '',\n",
       "  '139',\n",
       "  '114',\n",
       "  '2.3K',\n",
       "  '',\n",
       "  'https://twitter.com/elonmusk/status/1213300278960775168'),\n",
       " ('RS Tanner',\n",
       "  '@hot_rod_co',\n",
       "  '2020-01-04T03:21:17.000Z',\n",
       "  'Tesla has now added 112,000 salespeople ... actually, its more like 110,656 salespeople - as 98.8% will recommend their car to family and friends! (Bloomberg owner survey)\\n@tesla\\n@elonmusk',\n",
       "  '🚘',\n",
       "  '48',\n",
       "  '173',\n",
       "  '3.1K',\n",
       "  '',\n",
       "  'https://twitter.com/hot_rod_co/status/1213299332872622081'),\n",
       " ('Elon Musk',\n",
       "  '@elonmusk',\n",
       "  '2020-01-04T03:33:58.000Z',\n",
       "  'People talk about the products they *love*, that touch their heart & bring moments of joy',\n",
       "  '',\n",
       "  '290',\n",
       "  '361',\n",
       "  '6.6K',\n",
       "  '',\n",
       "  'https://twitter.com/elonmusk/status/1213302526239531008'),\n",
       " ('Elon Musk',\n",
       "  '@elonmusk',\n",
       "  '2020-01-04T03:35:20.000Z',\n",
       "  'Replying to \\n@annerajb\\n and \\n@slashdotZip2',\n",
       "  '',\n",
       "  '54',\n",
       "  '51',\n",
       "  '1.3K',\n",
       "  '',\n",
       "  'https://twitter.com/elonmusk/status/1213302866334691333'),\n",
       " ('Pomp',\n",
       "  '@APompliano',\n",
       "  '2020-01-05T13:32:27.000Z',\n",
       "  'Don’t look now, but \\n@elonmusk\\n and \\n@Tesla\\n are actually exceeding many of their ambitious goals now.\\n\\nIf you want to be reminded that optimists and innovators can still prevail, read this article.Take Your Victory Lap, Elon Musk\\nTesla is finally meeting its deadlines, and that’s welcome news for disruptors after a rough year.\\nwsj.com',\n",
       "  '🌪',\n",
       "  '100',\n",
       "  '978',\n",
       "  '7.8K',\n",
       "  '',\n",
       "  'https://twitter.com/APompliano/status/1213815524527919104'),\n",
       " ('Elon Musk',\n",
       "  '@elonmusk',\n",
       "  '2020-01-05T17:51:01.000Z',\n",
       "  'Fair piece by Stoll',\n",
       "  '',\n",
       "  '62',\n",
       "  '100',\n",
       "  '2.9K',\n",
       "  '',\n",
       "  'https://twitter.com/elonmusk/status/1213880594200817664'),\n",
       " ('Elon Musk',\n",
       "  '@elonmusk',\n",
       "  '2020-01-05T00:35:42.000Z',\n",
       "  'Wikigenius',\n",
       "  '',\n",
       "  '1.9K',\n",
       "  '30K',\n",
       "  '293.8K',\n",
       "  'https://pbs.twimg.com/media/ENelARzU0AA6Wxi?format=jpg&name=small',\n",
       "  'https://twitter.com/elonmusk/status/1213620051770671104'),\n",
       " ('Elon Musk',\n",
       "  '@elonmusk',\n",
       "  '2020-01-05T17:23:17.000Z',\n",
       "  'Replying to \\n@Model3OwnersOk',\n",
       "  '',\n",
       "  '181',\n",
       "  '199',\n",
       "  '5K',\n",
       "  '',\n",
       "  'https://twitter.com/elonmusk/status/1213873615445217282'),\n",
       " ('Elon Musk',\n",
       "  '@elonmusk',\n",
       "  '2020-01-05T18:08:31.000Z',\n",
       "  'Replying to \\n@7400N\\n and \\n@Model3OwnersOk',\n",
       "  '',\n",
       "  '105',\n",
       "  '100',\n",
       "  '3.1K',\n",
       "  '',\n",
       "  'https://twitter.com/elonmusk/status/1213884998681448449')]"
      ]
     },
     "execution_count": 5,
     "metadata": {},
     "output_type": "execute_result"
    }
   ],
   "source": [
    "scrap(start_date=\"2020-01-01\", max_date=\"2020-01-06\", from_account = \"elonmusk\",interval=1, headless=True, display_type=\"Top\", hashtag=None)"
   ]
  },
  {
   "cell_type": "markdown",
   "metadata": {},
   "source": [
    "# Get the main information of a specific account"
   ]
  },
  {
   "cell_type": "code",
   "execution_count": 5,
   "metadata": {},
   "outputs": [
    {
     "name": "stdout",
     "output_type": "stream",
     "text": [
      "Scraping on headless mode.\n",
      "following:103\n",
      "followers: 41.8M\n",
      "join_date: Joined June 2009\n",
      "location: \n",
      "website: \n",
      "description: \n"
     ]
    }
   ],
   "source": [
    "following, followers, join_date, location, website, description = get_user_information(\"elonmusk\")\n",
    "\n",
    "print('following:'+following+'\\nfollowers: '+followers+'\\njoin_date: '+join_date+ '\\nlocation: ' +location + '\\nwebsite: '+website + '\\ndescription: '+description)"
   ]
  },
  {
   "cell_type": "markdown",
   "metadata": {},
   "source": [
    "# get followers and following of a specific account "
   ]
  },
  {
   "cell_type": "code",
   "execution_count": 2,
   "metadata": {},
   "outputs": [
    {
     "name": "stdout",
     "output_type": "stream",
     "text": [
      "Scraping on headless mode.\n",
      "Found 8 following\n",
      "Found 40 following\n",
      "Found 71 following\n",
      "Found 100 following\n",
      "Found 114 following\n"
     ]
    }
   ],
   "source": [
    "#Enter your username and password in .env file. I recommande you dont use your main account. \n",
    "#Increase wait argument to avoid banning your account. I used 2 and it's safe.\n",
    "\n",
    "#following :\n",
    "following = get_following(user=\"Tesla\", verbose=0, headless = True, wait=2)\n",
    "\n",
    "#followers :\n",
    "#followers = get_followers(user=\"Tesla\", verbose=0, headless = True, wait=2)"
   ]
  },
  {
   "cell_type": "code",
   "execution_count": 3,
   "metadata": {},
   "outputs": [
    {
     "name": "stdout",
     "output_type": "stream",
     "text": [
      "{'Followers': ['https://twitter.com/cleantechnica', 'https://twitter.com/Teslarati', 'https://twitter.com/InsideEVs', 'https://twitter.com/arstechnica', 'https://twitter.com/austinnotduncan', 'https://twitter.com/karpathy', 'https://twitter.com/woodhaus2', 'https://twitter.com/boringcompany', 'https://twitter.com/karpathy', 'https://twitter.com/woodhaus2', 'https://twitter.com/boringcompany', 'https://twitter.com/Gizmodo', 'https://twitter.com/BadAstronomer', 'https://twitter.com/newscientist', 'https://twitter.com/OpenAI', 'https://twitter.com/neiltyson', 'https://twitter.com/TheOnion', 'https://twitter.com/LaughingSquid', 'https://twitter.com/TeslaOwnersWW', 'https://twitter.com/DMC_Ryan', 'https://twitter.com/MKBHD', 'https://twitter.com/verge', 'https://twitter.com/Hyperloop', 'https://twitter.com/RickandMorty', 'https://twitter.com/waitbutwhy', 'https://twitter.com/tsrandall', 'https://twitter.com/OCTeslaClub', 'https://twitter.com/ElectricJen', 'https://twitter.com/TeslaOwnersONT', 'https://twitter.com/StLTesla', 'https://twitter.com/TeslaOwnersBC', 'https://twitter.com/NTXTeslaOwners', 'https://twitter.com/NorCalRenoTesla', 'https://twitter.com/SouthernAZTesla', 'https://twitter.com/TeslaXCanada', 'https://twitter.com/Oatmeal', 'https://twitter.com/MarkRuffalo', 'https://twitter.com/smithmegan', 'https://twitter.com/TeslaClubItaly', 'https://twitter.com/autocar', 'https://twitter.com/StLTesla', 'https://twitter.com/TeslaOwnersBC', 'https://twitter.com/NTXTeslaOwners', 'https://twitter.com/NorCalRenoTesla', 'https://twitter.com/SouthernAZTesla', 'https://twitter.com/TeslaXCanada', 'https://twitter.com/Oatmeal', 'https://twitter.com/MarkRuffalo', 'https://twitter.com/smithmegan', 'https://twitter.com/TeslaClubItaly', 'https://twitter.com/autocar', 'https://twitter.com/dungerdunger', 'https://twitter.com/AutoCritic', 'https://twitter.com/TeslaClubBE', 'https://twitter.com/Angus_MacK', 'https://twitter.com/TeslaMotorsNC', 'https://twitter.com/LeilaniMunter', 'https://twitter.com/westcoastbill', 'https://twitter.com/CRcars', 'https://twitter.com/TeslaRoadTrip', 'https://twitter.com/PeterDrives', 'https://twitter.com/FastCoImpact', 'https://twitter.com/AutoweekUSA', 'https://twitter.com/mt_loverman', 'https://twitter.com/gigaom', 'https://twitter.com/RoadandTrack', 'https://twitter.com/EdLoh', 'https://twitter.com/AutoGuide', 'https://twitter.com/engadget', 'https://twitter.com/TechCrunch', 'https://twitter.com/tsport100', 'https://twitter.com/TeslaRoadTrip', 'https://twitter.com/PeterDrives', 'https://twitter.com/FastCoImpact', 'https://twitter.com/AutoweekUSA', 'https://twitter.com/mt_loverman', 'https://twitter.com/gigaom', 'https://twitter.com/RoadandTrack', 'https://twitter.com/EdLoh', 'https://twitter.com/AutoGuide', 'https://twitter.com/engadget', 'https://twitter.com/TechCrunch', 'https://twitter.com/tsport100', 'https://twitter.com/therealautoblog', 'https://twitter.com/automobilemag', 'https://twitter.com/Treehugger', 'https://twitter.com/SpaceX', 'https://twitter.com/mjburnsy', 'https://twitter.com/elonmusk', 'https://twitter.com/katiefehren', 'https://twitter.com/CNETCarTech', 'https://twitter.com/MotorTrend', 'https://twitter.com/CARandDRIVER', 'https://twitter.com/GreenCarReports', 'https://twitter.com/AutoblogGreen', 'https://twitter.com/adamwerbach', 'https://twitter.com/TeslaMotorsClub', 'https://twitter.com/pluginamerica', 'https://twitter.com/bobbyllew', 'https://twitter.com/Jason', 'https://twitter.com/SpaceX', 'https://twitter.com/mjburnsy', 'https://twitter.com/elonmusk', 'https://twitter.com/katiefehren', 'https://twitter.com/CNETCarTech', 'https://twitter.com/MotorTrend', 'https://twitter.com/CARandDRIVER', 'https://twitter.com/GreenCarReports', 'https://twitter.com/AutoblogGreen', 'https://twitter.com/adamwerbach', 'https://twitter.com/TeslaMotorsClub', 'https://twitter.com/pluginamerica', 'https://twitter.com/bobbyllew', 'https://twitter.com/Jason']}\n"
     ]
    }
   ],
   "source": [
    "print(following)"
   ]
  },
  {
   "cell_type": "code",
   "execution_count": null,
   "metadata": {},
   "outputs": [],
   "source": []
  }
 ],
 "metadata": {
  "kernelspec": {
   "display_name": "Python 3",
   "language": "python",
   "name": "python3"
  },
  "language_info": {
   "codemirror_mode": {
    "name": "ipython",
    "version": 3
   },
   "file_extension": ".py",
   "mimetype": "text/x-python",
   "name": "python",
   "nbconvert_exporter": "python",
   "pygments_lexer": "ipython3",
   "version": "3.7.7"
  }
 },
 "nbformat": 4,
 "nbformat_minor": 4
}
